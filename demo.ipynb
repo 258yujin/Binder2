{
 "cells": [
  {
   "cell_type": "code",
   "execution_count": 1,
   "metadata": {},
   "outputs": [
    {
     "ename": "ModuleNotFoundError",
     "evalue": "No module named 'cv2'",
     "output_type": "error",
     "traceback": [
      "\u001b[1;31m---------------------------------------------------------------------------\u001b[0m",
      "\u001b[1;31mModuleNotFoundError\u001b[0m                       Traceback (most recent call last)",
      "\u001b[1;32m<ipython-input-1-96def17a12f8>\u001b[0m in \u001b[0;36m<module>\u001b[1;34m\u001b[0m\n\u001b[0;32m      2\u001b[0m \u001b[1;32mimport\u001b[0m \u001b[0mtkinter\u001b[0m\u001b[1;33m.\u001b[0m\u001b[0mfiledialog\u001b[0m\u001b[1;33m\u001b[0m\u001b[1;33m\u001b[0m\u001b[0m\n\u001b[0;32m      3\u001b[0m \u001b[1;32mimport\u001b[0m \u001b[0mos\u001b[0m\u001b[1;33m\u001b[0m\u001b[1;33m\u001b[0m\u001b[0m\n\u001b[1;32m----> 4\u001b[1;33m \u001b[1;32mfrom\u001b[0m \u001b[0mcv2\u001b[0m \u001b[1;32mimport\u001b[0m \u001b[0mcv2\u001b[0m\u001b[1;33m\u001b[0m\u001b[1;33m\u001b[0m\u001b[0m\n\u001b[0m\u001b[0;32m      5\u001b[0m \u001b[1;32mimport\u001b[0m \u001b[0mPIL\u001b[0m\u001b[1;33m\u001b[0m\u001b[1;33m\u001b[0m\u001b[0m\n\u001b[0;32m      6\u001b[0m \u001b[1;32mfrom\u001b[0m \u001b[0mPIL\u001b[0m \u001b[1;32mimport\u001b[0m \u001b[0mImage\u001b[0m\u001b[1;33m,\u001b[0m \u001b[0mImageDraw\u001b[0m\u001b[1;33m,\u001b[0m \u001b[0mImageFont\u001b[0m\u001b[1;33m,\u001b[0m\u001b[0mImageTk\u001b[0m\u001b[1;33m\u001b[0m\u001b[1;33m\u001b[0m\u001b[0m\n",
      "\u001b[1;31mModuleNotFoundError\u001b[0m: No module named 'cv2'"
     ]
    }
   ],
   "source": [
    "import tkinter as tk\n",
    "import tkinter.filedialog\n",
    "import os\n",
    "from cv2 import cv2\n",
    "import PIL\n",
    "from PIL import Image, ImageDraw, ImageFont,ImageTk\n",
    "import numpy as np\n",
    "from tkinter.messagebox import showinfo\n",
    "import shutil\n",
    "import random\n",
    "import math\n",
    "from numpy.ma import cos, sin\n",
    "import matplotlib.pyplot as plt\n",
    "import matplotlib.image as mping\n",
    "from skimage import measure\n",
    "from skimage import io\n",
    "from skimage import img_as_ubyte"
   ]
  },
  {
   "cell_type": "code",
   "execution_count": null,
   "metadata": {},
   "outputs": [],
   "source": [
    "window = tk.Tk()\n",
    "window.title(\"bigger and smaller\")\n",
    "window.geometry('1080x780')\n",
    "wa = tk.Canvas(window, width = 500, height = 500)\n",
    "wa.place(x=50,y=50)\n",
    "bk=tk.Label(window,height=32,width=50,relief='ridge',bd=5)\n",
    "bk.place(x=640,y=40,anchor='nw')"
   ]
  },
  {
   "cell_type": "code",
   "execution_count": null,
   "metadata": {},
   "outputs": [],
   "source": [
    "img = cv2.imread(r'C:\\Users\\Alex\\Desktop\\cv\\0600.tif')#cv2.imread()接口读图像，读进来直接是BGR 格式数据格式在 0~255需要特别注意的是图片读出来的格式是BGR，不是我们最常见的RGB格式，颜色肯定有区别。\n",
    "resized_image = cv2.resize(img,(500, 500), interpolation=cv2.INTER_AREA)\n",
    "current_image = Image.fromarray(resized_image)\n",
    "imgtk=ImageTk.PhotoImage(current_image)\n",
    "wa.create_image(0,0,anchor='nw',image=imgtk)"
   ]
  },
  {
   "cell_type": "code",
   "execution_count": null,
   "metadata": {},
   "outputs": [],
   "source": [
    "w,h,c=img.shape\n",
    "bs=4\n",
    "ss=0\n",
    "subImt=''\n",
    "def onMouseclick(event):#放大图片\n",
    "    global bs\n",
    "    global subImt\n",
    "    global wa\n",
    "    global ss\n",
    "    if bs<=64:\n",
    "      \n",
    "        \n",
    "        wa.place_forget()\n",
    "        \n",
    "        x=event.x\n",
    "        y=event.y \n",
    "        #print(x,y)\n",
    "        a=max(0,5*x-1/bs*(w))\n",
    "        b=min(w,5*x+1/bs*(w))\n",
    "        c=max(0,5*y-1/bs*(h))\n",
    "        d=min(h,5*y+1/bs*(h))\n",
    "        a=int(a)\n",
    "        b=int(b)\n",
    "        c=int(c)\n",
    "        d=int(d)\n",
    "        subIm=img[a:b,c:d]    #创建显示的下一图像\n",
    "        subImt=cv2.resize(subIm,(500,500),interpolation=cv2.INTER_AREA)  #放大该图像\n",
    "        current_subIm=Image.fromarray(subImt)   \n",
    "        subImk=ImageTk.PhotoImage(image=current_subIm)\n",
    "    # cv2.imshow('subim',subImt)\n",
    "        wa = tk.Canvas(window, width = 500, height = 500)\n",
    "        wa.place(x=50,y=50)\n",
    "        wa.create_image(0,0,anchor='nw',image=subImk)\n",
    "        bs=bs*2\n",
    "        ss=bs/4\n",
    "        wa.bind('<Button-1>',onMouseclick)\n",
    "        wa.bind('<Button-3>',onMouseRightClick)\n",
    "        window.mainloop()\n",
    "        #return bs\n",
    "        #return subImt\n",
    "        \n",
    "    else:\n",
    "        tk.messagebox.showerror(title='error',message='sorry,it is the max picture')\n",
    "#wa.bind('<Button-1>',onMouseclick)"
   ]
  },
  {
   "cell_type": "code",
   "execution_count": null,
   "metadata": {},
   "outputs": [],
   "source": [
    "def onMouseRightClick(event):#缩小图片\n",
    "    global ss\n",
    "    global bs\n",
    "    global subImt\n",
    "    global wa\n",
    "    if ss>=1:        \n",
    "        wa.place_forget()       \n",
    "        x=250\n",
    "        y=250\n",
    "       # print(x,y)\n",
    "        a=max(0,5*x-1/ss*(w))\n",
    "        b=min(w,5*x+1/ss*(w))\n",
    "        c=max(0,5*y-1/ss*(h))\n",
    "        d=min(h,5*y+1/ss*(h))\n",
    "        a=int(a)\n",
    "        b=int(b)\n",
    "        c=int(c)\n",
    "        d=int(d)\n",
    "        subIm=img[a:b,c:d]    #创建显示的下一图像\n",
    "        subImt=cv2.resize(subIm,(500,500),interpolation=cv2.INTER_AREA)  #放大该图像\n",
    "        current_subIm=Image.fromarray(subImt)   \n",
    "        subImk=ImageTk.PhotoImage(image=current_subIm)\n",
    "    # cv2.imshow('subim',subImt)\n",
    "        wa = tk.Canvas(window, width = 500, height = 500)\n",
    "        wa.place(x=50,y=50)\n",
    "        wa.create_image(0,0,anchor='nw',image=subImk)\n",
    "        bs=ss*2\n",
    "        ss=ss/2\n",
    "        wa.bind('<Button-1>',onMouseclick)\n",
    "        wa.bind('<Button-3>',onMouseRightClick)\n",
    "        window.mainloop()\n",
    "        return subImt\n",
    "        \n",
    "    else:\n",
    "        tk.messagebox.showerror(title='error',message='sorry,it is the min picture')\n",
    "\n",
    "#wa.bind('<Button-3>',onMouseRightClick) \n"
   ]
  },
  {
   "cell_type": "code",
   "execution_count": null,
   "metadata": {},
   "outputs": [],
   "source": [
    "def initial():\n",
    "    global wa\n",
    "    global bs\n",
    "    global ss\n",
    "    wa.place_forget()\n",
    "    bs=4\n",
    "    ss=4\n",
    "    wa = tk.Canvas(window, width = 500, height = 500)\n",
    "    wa.place(x=50,y=50)\n",
    "    wa.create_image(0,0,anchor='nw',image=imgtk)\n",
    "    wa.bind('<Button-1>',onMouseclick)\n",
    "    wa.bind('<Button-3>',onMouseRightClick)"
   ]
  },
  {
   "cell_type": "code",
   "execution_count": null,
   "metadata": {},
   "outputs": [],
   "source": [
    "def theresold_imge():\n",
    "    global subImt\n",
    "    global wa\n",
    "    wa.place_forget()\n",
    "    gray = cv2.cvtColor(subImt, cv2.COLOR_BGR2GRAY)#将图片转化为灰度图片，原理就是灰度图上，物体边界灰度突变，这是我们为什么要转换成灰度图。减少原始图片的数据量，使运算量减少。\n",
    "    ret, binary = cv2.threshold(gray, 127, 255, cv2.THRESH_BINARY)#小于阈值的像素点置0，大于阈值的像素点置填充色，转换成二值图\n",
    "    gray[np.where(binary==0)]=255\n",
    "    #cv2.imshow('gray',gray)\n",
    "    #contours, hierarchy = cv2.findContours(binary, cv2.RETR_TREE, cv2.CHAIN_APPROX_SIMPLE)#\n",
    "    #subImt=cv2.drawContours(subImt,contours,-1,(0,0,255),1,lineType=cv2.LINE_AA)\n",
    "    current_image = Image.fromarray(gray)\n",
    "    imgtk=ImageTk.PhotoImage(current_image)\n",
    "    wa = tk.Canvas(window, width = 500, height = 500)\n",
    "    wa.place(x=50,y=50)\n",
    "    wa.create_image(0,0,anchor='nw',image=imgtk)\n",
    "    wa.bind('<Button-1>',onMouseclick)\n",
    "    wa.bind('<Button-3>',onMouseRightClick)\n",
    "    #cv2.waitKey(0)\n",
    "    window.mainloop()"
   ]
  },
  {
   "cell_type": "code",
   "execution_count": null,
   "metadata": {},
   "outputs": [],
   "source": [
    "def zengda():\n",
    "     wa.bind('<Button-1>',onMouseclick)\n",
    "     window.mainloop()"
   ]
  },
  {
   "cell_type": "code",
   "execution_count": null,
   "metadata": {},
   "outputs": [],
   "source": [
    "def suoxiao():\n",
    "     wa.bind('<Button-3>',onMouseRightClick)\n",
    "     window.mainloop()"
   ]
  },
  {
   "cell_type": "code",
   "execution_count": null,
   "metadata": {},
   "outputs": [],
   "source": [
    "l=[]\n",
    "m=(1,1)\n",
    "n=(1,1)\n",
    "def xFunc1(event):\n",
    "    global l\n",
    "    global m\n",
    "    global n\n",
    "    global wa\n",
    "    wa.place_forget() \n",
    "    l.append((event.x,event.y))\n",
    "    a=l[0]\n",
    "    b=l[-1]\n",
    "    m=a[0]-b[0]\n",
    "    n=a[1]-b[1]\n",
    "    x=250+m\n",
    "    y=250+n\n",
    "    #print(x,y)\n",
    "    a=max(0,5*x-1/bs*(w))\n",
    "    b=min(w,5*x+1/bs*(w))\n",
    "    c=max(0,5*y-1/bs*(h))\n",
    "    d=min(h,5*y+1/bs*(h))\n",
    "    a=int(a)\n",
    "    b=int(b)\n",
    "    c=int(c)\n",
    "    d=int(d)\n",
    "    subIm=img[a:b,c:d]    #创建显示的下一图像\n",
    "    subImt=cv2.resize(subIm,(500,500),interpolation=cv2.INTER_AREA)  #放大该图像\n",
    "    current_subIm=Image.fromarray(subImt)   \n",
    "    subImk=ImageTk.PhotoImage(image=current_subIm)\n",
    "    wa = tk.Canvas(window, width = 500, height = 500)\n",
    "    wa.place(x=50,y=50)\n",
    "    wa.create_image(0,0,anchor='nw',image=subImk)\n",
    "  \n",
    "        # wa.bind('<Button-1>',onMouseclick)\n",
    "        # wa.bind('<Button-3>',onMouseRightClick)\n",
    "    wa.bind(\"<B1-Motion>\", xFunc1)\n",
    "    # l=[]\n",
    "    window.mainloop()"
   ]
  },
  {
   "cell_type": "code",
   "execution_count": null,
   "metadata": {},
   "outputs": [],
   "source": [
    "def move():\n",
    "     wa.bind(\"<B1-Motion>\", xFunc1)\n",
    "     window.mainloop()\n",
    "\n",
    "# def click_show():\n"
   ]
  },
  {
   "cell_type": "code",
   "execution_count": null,
   "metadata": {},
   "outputs": [],
   "source": [
    "m1 = tk.PhotoImage(file='C:\\\\Users\\\\Alex\\\\Desktop\\\\python_work_2\\\\amplify.png')\n",
    "m2 = tk.PhotoImage(file='C:\\\\Users\\\\Alex\\\\Desktop\\\\python_work_2\\\\lessen.png')\n",
    "m3 = tk.PhotoImage(file='C:\\\\Users\\\\Alex\\\\Desktop\\\\python_work_2\\\\initial.png')\n",
    "m4 = tk.PhotoImage(file='C:\\\\Users\\\\Alex\\\\Desktop\\\\python_work_2\\\\theresold.png')\n",
    "m5 = tk.PhotoImage(file='C:\\\\Users\\\\Alex\\\\Desktop\\\\python_work_2\\\\move.png')#\n",
    "# m6 = tk.PhotoImage(file='C:\\\\Users\\\\Alex\\\\Desktop\\\\python_work_2\\\\result.png')\n",
    "b1=tk.Button(window,width=18,height=18,command=zengda,image=m1)\n",
    "b1.place(x=10,y=0)\n",
    "b2=tk.Button(window,width=18,height=18,command=suoxiao,image=m2)\n",
    "b2.place(x=80,y=0)\n",
    "b3=tk.Button(window,width=18,height=18,command=initial,image=m3)\n",
    "b3.place(x=150,y=0)\n",
    "b4=tk.Button(window,width=18,height=18,command=theresold_imge,image=m4)\n",
    "b4.place(x=230,y=0)\n",
    "b5=tk.Button(window,width=18,height=18,command=move,image=m5)\n",
    "b5.place(x=310,y=0)\n",
    "# b6=tk.Button(window,width=18,height=18,command=result,image=m6)\n",
    "# b6.place(x=390,y=0)\n",
    "cv2.waitKey(0)\n",
    "window.mainloop()"
   ]
  },
  {
   "cell_type": "code",
   "execution_count": 2,
   "metadata": {},
   "outputs": [],
   "source": [
    "import random\n",
    "import math\n",
    "from numpy.ma import cos, sin\n",
    "import matplotlib.pyplot as plt\n",
    "import matplotlib.image as mping\n",
    "from skimage import measure\n",
    "from skimage import io\n",
    "from skimage import img_as_ubyte"
   ]
  },
  {
   "cell_type": "code",
   "execution_count": 3,
   "metadata": {},
   "outputs": [
    {
     "name": "stdout",
     "output_type": "stream",
     "text": [
      "C:\\Users\\MECHREVO\n"
     ]
    }
   ],
   "source": []
  },
  {
   "cell_type": "code",
   "execution_count": null,
   "metadata": {},
   "outputs": [],
   "source": []
  },
  {
   "cell_type": "code",
   "execution_count": null,
   "metadata": {},
   "outputs": [],
   "source": []
  },
  {
   "cell_type": "code",
   "execution_count": null,
   "metadata": {},
   "outputs": [],
   "source": []
  },
  {
   "cell_type": "code",
   "execution_count": null,
   "metadata": {},
   "outputs": [],
   "source": []
  },
  {
   "cell_type": "code",
   "execution_count": null,
   "metadata": {},
   "outputs": [],
   "source": []
  },
  {
   "cell_type": "code",
   "execution_count": null,
   "metadata": {},
   "outputs": [],
   "source": []
  },
  {
   "cell_type": "code",
   "execution_count": null,
   "metadata": {},
   "outputs": [],
   "source": []
  },
  {
   "cell_type": "code",
   "execution_count": null,
   "metadata": {},
   "outputs": [],
   "source": []
  },
  {
   "cell_type": "code",
   "execution_count": null,
   "metadata": {},
   "outputs": [],
   "source": []
  },
  {
   "cell_type": "code",
   "execution_count": null,
   "metadata": {},
   "outputs": [],
   "source": []
  },
  {
   "cell_type": "code",
   "execution_count": null,
   "metadata": {},
   "outputs": [],
   "source": []
  },
  {
   "cell_type": "code",
   "execution_count": null,
   "metadata": {},
   "outputs": [],
   "source": []
  },
  {
   "cell_type": "code",
   "execution_count": null,
   "metadata": {},
   "outputs": [],
   "source": []
  },
  {
   "cell_type": "code",
   "execution_count": null,
   "metadata": {},
   "outputs": [],
   "source": []
  },
  {
   "cell_type": "code",
   "execution_count": null,
   "metadata": {},
   "outputs": [],
   "source": []
  },
  {
   "cell_type": "code",
   "execution_count": null,
   "metadata": {},
   "outputs": [],
   "source": []
  },
  {
   "cell_type": "code",
   "execution_count": null,
   "metadata": {},
   "outputs": [],
   "source": []
  },
  {
   "cell_type": "code",
   "execution_count": null,
   "metadata": {},
   "outputs": [],
   "source": []
  },
  {
   "cell_type": "code",
   "execution_count": null,
   "metadata": {},
   "outputs": [],
   "source": []
  },
  {
   "cell_type": "code",
   "execution_count": null,
   "metadata": {},
   "outputs": [],
   "source": []
  },
  {
   "cell_type": "code",
   "execution_count": null,
   "metadata": {},
   "outputs": [],
   "source": []
  },
  {
   "cell_type": "code",
   "execution_count": null,
   "metadata": {},
   "outputs": [],
   "source": []
  },
  {
   "cell_type": "code",
   "execution_count": null,
   "metadata": {},
   "outputs": [],
   "source": []
  },
  {
   "cell_type": "code",
   "execution_count": null,
   "metadata": {},
   "outputs": [],
   "source": []
  },
  {
   "cell_type": "code",
   "execution_count": null,
   "metadata": {},
   "outputs": [],
   "source": []
  },
  {
   "cell_type": "code",
   "execution_count": null,
   "metadata": {},
   "outputs": [],
   "source": []
  },
  {
   "cell_type": "code",
   "execution_count": null,
   "metadata": {},
   "outputs": [],
   "source": []
  },
  {
   "cell_type": "code",
   "execution_count": null,
   "metadata": {},
   "outputs": [],
   "source": []
  },
  {
   "cell_type": "code",
   "execution_count": null,
   "metadata": {},
   "outputs": [],
   "source": []
  },
  {
   "cell_type": "code",
   "execution_count": null,
   "metadata": {},
   "outputs": [],
   "source": []
  },
  {
   "cell_type": "code",
   "execution_count": null,
   "metadata": {},
   "outputs": [],
   "source": []
  },
  {
   "cell_type": "code",
   "execution_count": null,
   "metadata": {},
   "outputs": [],
   "source": []
  },
  {
   "cell_type": "code",
   "execution_count": null,
   "metadata": {},
   "outputs": [],
   "source": []
  }
 ],
 "metadata": {
  "kernelspec": {
   "display_name": "Python 3",
   "language": "python",
   "name": "python3"
  },
  "language_info": {
   "codemirror_mode": {
    "name": "ipython",
    "version": 3
   },
   "file_extension": ".py",
   "mimetype": "text/x-python",
   "name": "python",
   "nbconvert_exporter": "python",
   "pygments_lexer": "ipython3",
   "version": "3.8.5"
  }
 },
 "nbformat": 4,
 "nbformat_minor": 2
}
